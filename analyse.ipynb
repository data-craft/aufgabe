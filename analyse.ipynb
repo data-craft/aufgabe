{
 "cells": [
  {
   "cell_type": "code",
   "execution_count": 18,
   "metadata": {},
   "outputs": [],
   "source": [
    "import pandas as pd\n",
    "import numpy as np"
   ]
  },
  {
   "cell_type": "code",
   "execution_count": 14,
   "metadata": {},
   "outputs": [],
   "source": [
    "zufall = np.random.default_rng()\n",
    "\n",
    "df = pd.DataFrame({\"wurf1\":np.random.randint(low=1, high=7, size=1000),\n",
    "                   \"wurf2\":np.random.randint(low=1, high=7, size=1000)})"
   ]
  },
  {
   "cell_type": "code",
   "execution_count": 21,
   "metadata": {},
   "outputs": [
    {
     "data": {
      "text/plain": [
       "wurf1\n",
       "1    178\n",
       "2    156\n",
       "3    165\n",
       "4    168\n",
       "5    165\n",
       "6    168\n",
       "Name: count, dtype: int64"
      ]
     },
     "execution_count": 21,
     "metadata": {},
     "output_type": "execute_result"
    }
   ],
   "source": [
    "verteilung1 = df.wurf1.value_counts().sort_index()\n",
    "verteilung1"
   ]
  },
  {
   "cell_type": "code",
   "execution_count": 16,
   "metadata": {},
   "outputs": [
    {
     "data": {
      "text/plain": [
       "summe\n",
       "2      29\n",
       "3      51\n",
       "4      81\n",
       "5     119\n",
       "6     130\n",
       "7     186\n",
       "8     123\n",
       "9     115\n",
       "10     91\n",
       "11     53\n",
       "12     22\n",
       "Name: count, dtype: int64"
      ]
     },
     "execution_count": 16,
     "metadata": {},
     "output_type": "execute_result"
    }
   ],
   "source": [
    "df[\"summe\"] = df.wurf1 + df.wurf2\n",
    "df.summe.value_counts().sort_index()"
   ]
  },
  {
   "cell_type": "code",
   "execution_count": null,
   "metadata": {},
   "outputs": [],
   "source": []
  }
 ],
 "metadata": {
  "kernelspec": {
   "display_name": "datacraft",
   "language": "python",
   "name": "python3"
  },
  "language_info": {
   "codemirror_mode": {
    "name": "ipython",
    "version": 3
   },
   "file_extension": ".py",
   "mimetype": "text/x-python",
   "name": "python",
   "nbconvert_exporter": "python",
   "pygments_lexer": "ipython3",
   "version": "3.11.3"
  },
  "orig_nbformat": 4
 },
 "nbformat": 4,
 "nbformat_minor": 2
}
